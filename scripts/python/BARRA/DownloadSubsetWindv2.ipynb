{
 "cells": [
  {
   "cell_type": "code",
   "execution_count": 1,
   "metadata": {},
   "outputs": [],
   "source": [
    "import glob\n",
    "import os\n",
    "import shutil\n",
    "\n",
    "import numpy as np\n",
    "import xarray as xr\n",
    "import rioxarray"
   ]
  },
  {
   "cell_type": "code",
   "execution_count": 2,
   "metadata": {},
   "outputs": [],
   "source": [
    "maindownloadfolder=r'D:\\Data\\BARRAv2\\downloadedwind'\n",
    "subsetfolder=r'D:\\Data\\BARRAv2'"
   ]
  },
  {
   "cell_type": "markdown",
   "metadata": {},
   "source": [
    "Lost the wind code. download and read in uwind and vwind. after fixing projection, use rioxarray reproject_match to line up the grids. then clip, then merge. Merge didn't work with two variables for some reason, so easier to clip both and then merge, rather than merge and then clip."
   ]
  },
  {
   "cell_type": "code",
   "execution_count": 3,
   "metadata": {},
   "outputs": [],
   "source": [
    "stream='slv'\n",
    "variables=['av_uwnd10m','av_vwnd10m']\n",
    "#os.mkdir(subsetfolder + \"\\\\Coorong\\\\\")\n",
    "#os.mkdir(subsetfolder + \"\\\\CLLMR\\\\\")"
   ]
  },
  {
   "cell_type": "code",
   "execution_count": 4,
   "metadata": {
    "scrolled": true
   },
   "outputs": [
    {
     "name": "stdout",
     "output_type": "stream",
     "text": [
      "\n",
      "\n",
      "\n",
      "\n",
      "\n",
      "\n",
      "\n",
      "\n",
      "\n",
      "\n",
      "\n",
      "\n",
      "\n",
      "\n",
      "\n",
      "\n",
      "\n",
      "\n",
      "\n",
      "\n",
      "\n",
      "\n",
      "\n",
      "\n",
      "\n",
      "\n",
      "\n",
      "\n",
      "\n",
      "\n",
      "\n",
      "\n",
      "\n",
      "\n",
      "\n",
      "\n",
      "\n",
      "\n"
     ]
    }
   ],
   "source": [
    "for year in range(1990,2010):\n",
    "        for variable in variables:\n",
    "        \n",
    "            downloadfolder=maindownloadfolder + \"\\\\\" + variable + \"\\\\\" + str(year)\n",
    "\n",
    "            if not os.path.exists(maindownloadfolder + \"\\\\\" + variable):\n",
    "                os.mkdir(maindownloadfolder + \"\\\\\" + variable)\n",
    "\n",
    "            if not os.path.exists(downloadfolder):\n",
    "                os.mkdir(downloadfolder)\n",
    "            \n",
    "        for month in range(1,13):\n",
    "            \n",
    "            #download both uwing and vwind for this month.\n",
    "            for variable in variables:\n",
    "                \n",
    "                downloadfolder=maindownloadfolder + \"\\\\\" + variable + \"\\\\\" + str(year)\n",
    "            \n",
    "                if not os.path.exists(downloadfolder + \"\\\\\" + str(month)):\n",
    "                    os.mkdir(downloadfolder + \"\\\\\" + str(month))\n",
    "\n",
    "                raijinfolder='/g/data/ma05/BARRA_AD/v1/forecast/'+stream+'/'+variable+'/'+str(year)+'/'+str(month).zfill(2)+'/*'\n",
    "                os.system('C:/devapps/PuTTYPortable/pscp.exe -pw Coldbluewater1 mg3808@gadi.nci.org.au:'+ raijinfolder + \" \" + downloadfolder + \"\\\\\" + str(month))\n",
    "\n",
    "            #load in and project to match mesh\n",
    "            downloadfolder=maindownloadfolder + \"\\\\\" + variables[0] + \"\\\\\" + str(year)\n",
    "            data = xr.open_mfdataset(glob.glob(downloadfolder + \"\\\\\" + str(month) + '\\\\*.nc'),combine='by_coords')\n",
    "            data=data[[variables[0]]]\n",
    "            data.rio.write_crs(\"+proj=longlat +R=6371229 +no_defs +type=crs\",inplace=True)\n",
    "            uWind=data.rio.reproject(\"EPSG:28354\")\n",
    "\n",
    "            downloadfolder=maindownloadfolder + \"\\\\\" + variables[1] + \"\\\\\" + str(year)\n",
    "            data = xr.open_mfdataset(glob.glob(downloadfolder + \"\\\\\" + str(month) + '\\\\*.nc'),combine='by_coords')\n",
    "            data=data[[variables[1]]]\n",
    "            data.rio.write_crs(\"+proj=longlat +R=6371229 +no_defs +type=crs\",inplace=True)\n",
    "            vWind=data.rio.reproject(\"EPSG:28354\").rio.reproject_match(uWind)\n",
    "       \n",
    "    \n",
    "            filename= str(year)+str(month).zfill(2)+'.nc'\n",
    "        \n",
    "            #clip, merge and output. Merge before clip didn't work.\n",
    "            CoorongU=uWind.rio.clip_box(298039,5985864,384367,6069563)\n",
    "            CoorongV=vWind.rio.clip_box(298039,5985864,384367,6069563)\n",
    "            CoorongU=CoorongU.merge(CoorongV)\n",
    "            CoorongU.to_netcdf(subsetfolder + \"\\\\Coorong\\\\av_wnd10\\\\\" + filename)\n",
    "            CoorongU.close()\n",
    "            CoorongV.close()\n",
    "\n",
    "            CLLMRU=uWind.rio.clip_box(296887,5985833,384607,6199011)\n",
    "            CLLMRV=vWind.rio.clip_box(296887,5985833,384607,6199011)\n",
    "            CLLMRU=CLLMRU.merge(CLLMRV)\n",
    "            CLLMRU.to_netcdf(subsetfolder + \"\\\\CLLMR\\\\av_wnd10\\\\\" + filename)\n",
    "            CLLMRU.close()\n",
    "            CLLMRV.close()\n",
    "\n",
    "            data.close()\n",
    "            uWind.close()\n",
    "            vWind.close()\n",
    "            \n",
    "        #at the end of the year, clear out the downloaded data\n",
    "        for variable in variables:\n",
    "        \n",
    "            downloadfolder=maindownloadfolder + \"\\\\\" + variable + \"\\\\\" + str(year)\n",
    "            \n",
    "            try:\n",
    "                shutil.rmtree(downloadfolder)\n",
    "            except:\n",
    "                print(\"\")"
   ]
  },
  {
   "cell_type": "code",
   "execution_count": null,
   "metadata": {},
   "outputs": [],
   "source": []
  }
 ],
 "metadata": {
  "kernelspec": {
   "display_name": "Python 3",
   "language": "python",
   "name": "python3"
  },
  "language_info": {
   "codemirror_mode": {
    "name": "ipython",
    "version": 3
   },
   "file_extension": ".py",
   "mimetype": "text/x-python",
   "name": "python",
   "nbconvert_exporter": "python",
   "pygments_lexer": "ipython3",
   "version": "3.7.4"
  }
 },
 "nbformat": 4,
 "nbformat_minor": 4
}
