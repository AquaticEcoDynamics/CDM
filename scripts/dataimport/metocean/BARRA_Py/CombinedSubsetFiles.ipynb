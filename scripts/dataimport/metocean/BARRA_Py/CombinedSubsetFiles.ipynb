{
 "cells": [
  {
   "cell_type": "code",
   "execution_count": 1,
   "metadata": {},
   "outputs": [],
   "source": [
    "import glob\n",
    "import os\n",
    "\n",
    "import numpy as np\n",
    "import xarray as xr"
   ]
  },
  {
   "cell_type": "code",
   "execution_count": 2,
   "metadata": {},
   "outputs": [],
   "source": [
    "subsetfolder=r'D:\\Data\\BARRAv2\\Coorong'\n",
    "variables=['av_wnd10','av_netlwsfc','av_swsfcdown','av_temp_scrn','av_mslp'] #wind10m, accum_ls_prcp\n"
   ]
  },
  {
   "cell_type": "code",
   "execution_count": 7,
   "metadata": {
    "scrolled": true
   },
   "outputs": [],
   "source": [
    "for variable in variables:\n",
    "    \n",
    "    files=glob.glob(subsetfolder+ '\\\\' + variable + '\\\\*.nc')\n",
    "\n",
    "    #wind has different height values over time?? compat='override' skips this check\n",
    "    data = xr.open_mfdataset(files,combine='by_coords')#,compat='override')\n",
    "    #hack to fix duplicate times\n",
    "  #  data = xr.open_mfdataset(glob.glob(subsetfolder+ '\\\\'+ variable + '\\\\*.nc'),combine='nested',concat_dim=['x,y'])\n",
    "  #  _, index = np.unique(data['time'], return_index=True)\n",
    "  #  data.isel(time=index)\n",
    "    \n",
    "    data.to_netcdf(subsetfolder + \"\\\\\" + variable + \"_all.nc\")\n",
    "    data.close()\n"
   ]
  },
  {
   "cell_type": "code",
   "execution_count": 5,
   "metadata": {},
   "outputs": [
    {
     "data": {
      "text/plain": [
       "'av_swsfcdown'"
      ]
     },
     "execution_count": 5,
     "metadata": {},
     "output_type": "execute_result"
    }
   ],
   "source": [
    "variable"
   ]
  },
  {
   "cell_type": "code",
   "execution_count": 6,
   "metadata": {},
   "outputs": [
    {
     "data": {
      "text/plain": [
       "<xarray.Dataset>\n",
       "Dimensions:                  (time: 26280, x: 192, y: 139)\n",
       "Coordinates:\n",
       "  * x                        (x) float64 2.978e+05 2.978e+05 ... 3.844e+05\n",
       "  * y                        (y) float64 5.986e+06 5.986e+06 ... 6.069e+06\n",
       "    latitude_longitude       int32 ...\n",
       "    forecast_period          (time) timedelta64[ns] dask.array<chunksize=(26280,), meta=np.ndarray>\n",
       "  * time                     (time) datetime64[ns] 2013-01-01T03:30:00 ... 2016-01-01T02:30:00\n",
       "    forecast_reference_time  (time) datetime64[ns] dask.array<chunksize=(26280,), meta=np.ndarray>\n",
       "    height                   float64 ...\n",
       "Data variables:\n",
       "    av_mslp                  (time, y, x) float32 dask.array<chunksize=(26280, 139, 192), meta=np.ndarray>\n",
       "    av_netlwsfc              (time, y, x) float32 dask.array<chunksize=(26280, 139, 192), meta=np.ndarray>\n",
       "    av_swsfcdown             (time, y, x) float32 dask.array<chunksize=(26280, 139, 192), meta=np.ndarray>\n",
       "    av_temp_scrn             (time, y, x) float32 dask.array<chunksize=(26280, 139, 192), meta=np.ndarray>\n",
       "    av_uwnd10m               (time, y, x) float32 dask.array<chunksize=(26280, 139, 192), meta=np.ndarray>\n",
       "    av_vwnd10m               (time, y, x) float32 dask.array<chunksize=(26280, 139, 192), meta=np.ndarray>\n",
       "Attributes:\n",
       "    source:                         Data from Met Office Unified Model\n",
       "    um_version:                     10.6\n",
       "    Conventions:                    CF-1.6, ACDD-1.3\n",
       "    institution:                    Australian Bureau of Meteorology, GPO Box...\n",
       "    title:                          Bureau of Meteorology Atmospheric high-re...\n",
       "    summary:                        The Bureau of Meteorology Atmospheric hig...\n",
       "    project:                        BARRA: Bureau of Meteorology high-resolut...\n",
       "    keywords:                       Earth Science Services, Models, Earth Sci...\n",
       "    acknowledgment:                 The Australian Government, Bureau of Mete...\n",
       "    dataset_identifier:             BARRA_v1\n",
       "    id:                             BARRA-AD\n",
       "    references:                     http://www.bom.gov.au\n",
       "    license:                        The Bureau of Meteorology licences this d...\n",
       "    product_version:                1.0\n",
       "    suite_name:                     ad2012\n",
       "    suite_version_number:           95841\n",
       "    suite_url:                      https://code.metoffice.gov.uk/svn/roses-u...\n",
       "    processing_level:               Conversion from Unified Model (UM) fields...\n",
       "    cdm_data_type:                  Grid\n",
       "    data_format:                    netCDF4 with zlib compression\n",
       "    netcdf4libversion:              4.3.0\n",
       "    hdf5libversion:                 1.8.10-patch1\n",
       "    stash_vocabulary:               http://reference.metoffice.gov.uk/um/stash\n",
       "    stash_references:               https://code.metoffice.gov.uk/svn/um/main...\n",
       "    standard_name_vocabulary:       CF Standard Name Table v44\n",
       "    keywords_vocabulary:            GCMD Science Keywords, Version 8.5\n",
       "    keywords_reference:             Global Change Master Directory (GCMD). 20...\n",
       "    geospatial_lat_min:             -39.5\n",
       "    geospatial_lat_max:             -29.4965\n",
       "    geospatial_lat_resolution:      0.013496399\n",
       "    geospatial_lat_resolution_min:  0.013496399\n",
       "    geospatial_lat_resolution_max:  0.013496399\n",
       "    geospatial_lat_units:           degrees\n",
       "    geospatial_lon_min:             131.0\n",
       "    geospatial_lon_max:             142.0025\n",
       "    geospatial_lon_resolution:      0.0134887695\n",
       "    geospatial_lon_resolution_min:  0.0134887695\n",
       "    geospatial_lon_resolution_max:  0.0134887695\n",
       "    geospatial_lon_units:           degrees\n",
       "    time_coverage_start:            2013-01-01T03:00:00\n",
       "    time_coverage_end:              2013-01-01T08:30:00\n",
       "    time_coverage_duration:         PT5H1800S\n",
       "    time_coverage_resolution:       PT60M0S\n",
       "    date_created:                   2018-12-07T22:15:41\n",
       "    date_modified:                  2019-01-08T17:25:44\n",
       "    publisher_email:                helpdesk.reanalysis@bom.gov.au\n",
       "    publisher_institution:          Australian Bureau of Meteorology\n",
       "    publisher_name:                 Australian Bureau of Meteorology\n",
       "    publisher_type:                 institution\n",
       "    publisher_url:                  http://www.bom.gov.au\n",
       "    naming_authority:               au.gov.bom\n",
       "    history:                        2019-01-08T17:25:44,chs548,/g/data1a/dp9/...\n",
       "    grid_mapping:                   latitude_longitude"
      ]
     },
     "execution_count": 6,
     "metadata": {},
     "output_type": "execute_result"
    }
   ],
   "source": [
    "data\n"
   ]
  },
  {
   "cell_type": "code",
   "execution_count": null,
   "metadata": {},
   "outputs": [],
   "source": []
  }
 ],
 "metadata": {
  "kernelspec": {
   "display_name": "Python 3",
   "language": "python",
   "name": "python3"
  },
  "language_info": {
   "codemirror_mode": {
    "name": "ipython",
    "version": 3
   },
   "file_extension": ".py",
   "mimetype": "text/x-python",
   "name": "python",
   "nbconvert_exporter": "python",
   "pygments_lexer": "ipython3",
   "version": "3.7.4"
  }
 },
 "nbformat": 4,
 "nbformat_minor": 4
}
